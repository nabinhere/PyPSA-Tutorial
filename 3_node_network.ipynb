{
 "cells": [
  {
   "cell_type": "code",
   "execution_count": 2,
   "id": "5b579e90-f5c9-48d4-a973-2d8a56752950",
   "metadata": {},
   "outputs": [],
   "source": [
    "import pypsa\n",
    "import matplotlib.pyplot as plt\n",
    "import numpy as np"
   ]
  },
  {
   "cell_type": "code",
   "execution_count": 3,
   "id": "aa87b163-67dd-4c00-9ed1-c8f63c2b3140",
   "metadata": {},
   "outputs": [
    {
     "name": "stdout",
     "output_type": "stream",
     "text": [
      "attribute  v_nom type    x    y carrier unit  v_mag_pu_set  v_mag_pu_min  \\\n",
      "Bus                                                                        \n",
      "Bus 0       20.0       0.0  0.0      AC                1.0           0.0   \n",
      "Bus 1       20.0       0.0  0.0      AC                1.0           0.0   \n",
      "Bus 2       20.0       0.0  0.0      AC                1.0           0.0   \n",
      "\n",
      "attribute  v_mag_pu_max control generator sub_network  \n",
      "Bus                                                    \n",
      "Bus 0               inf      PQ                        \n",
      "Bus 1               inf      PQ                        \n",
      "Bus 2               inf      PQ                         \n",
      "\n",
      "\n"
     ]
    }
   ],
   "source": [
    "n_bus = 3\n",
    "network = pypsa.Network()\n",
    "\n",
    "# add three buses in the network\n",
    "for i in range(n_bus):\n",
    "    network.add(\"Bus\", f\"Bus {i}\", v_nom = 20.0)\n",
    "\n",
    "# print bus details\n",
    "print(network.buses, \"\\n\\n\")\n",
    "\n",
    "# add lines between the buses\n",
    "for i in range(n_bus):\n",
    "    network.add(\"Line\", f\"Line {i}{(i+1)%3}\", bus0 = f\"Bus {i}\", bus1 = f\"Bus {(i+1)%n_bus}\", x = 0.1, r = 0.01)"
   ]
  },
  {
   "cell_type": "code",
   "execution_count": 4,
   "id": "6ded4163-832a-4b53-bd09-6b7a1d9cd24d",
   "metadata": {},
   "outputs": [
    {
     "name": "stdout",
     "output_type": "stream",
     "text": [
      "attribute   bus0   bus1 type    x     r    g    b  s_nom  s_nom_mod  \\\n",
      "Line                                                                  \n",
      "Line 01    Bus 0  Bus 1       0.1  0.01  0.0  0.0    0.0        0.0   \n",
      "Line 12    Bus 1  Bus 2       0.1  0.01  0.0  0.0    0.0        0.0   \n",
      "Line 20    Bus 2  Bus 0       0.1  0.01  0.0  0.0    0.0        0.0   \n",
      "\n",
      "attribute  s_nom_extendable  ...  v_ang_min  v_ang_max  sub_network  x_pu  \\\n",
      "Line                         ...                                            \n",
      "Line 01               False  ...       -inf        inf                0.0   \n",
      "Line 12               False  ...       -inf        inf                0.0   \n",
      "Line 20               False  ...       -inf        inf                0.0   \n",
      "\n",
      "attribute  r_pu  g_pu  b_pu x_pu_eff  r_pu_eff  s_nom_opt  \n",
      "Line                                                       \n",
      "Line 01     0.0   0.0   0.0      0.0       0.0        0.0  \n",
      "Line 12     0.0   0.0   0.0      0.0       0.0        0.0  \n",
      "Line 20     0.0   0.0   0.0      0.0       0.0        0.0  \n",
      "\n",
      "[3 rows x 30 columns] \n",
      "\n",
      "\n"
     ]
    }
   ],
   "source": [
    "print(network.lines, \"\\n\\n\")"
   ]
  },
  {
   "cell_type": "code",
   "execution_count": 5,
   "id": "86c102f9-d792-47c0-a75b-6ccefe8286c6",
   "metadata": {},
   "outputs": [
    {
     "name": "stdout",
     "output_type": "stream",
     "text": [
      "Generator\n",
      "Generator 1    100.0\n",
      "Name: p_set, dtype: float64 \n",
      "\n",
      "\n"
     ]
    }
   ],
   "source": [
    "# add a generator at bus 0\n",
    "network.add(\"Generator\", \"Generator 1\", bus = \"Bus 0\", p_set = 100, control = \"PQ\")\n",
    "print(network.generators.p_set, \"\\n\\n\")"
   ]
  },
  {
   "cell_type": "code",
   "execution_count": 6,
   "id": "e9e928c0-bcbf-4864-9977-ea2c6d233bc6",
   "metadata": {},
   "outputs": [
    {
     "name": "stdout",
     "output_type": "stream",
     "text": [
      "attribute    bus carrier type  p_set  q_set  sign\n",
      "Load                                             \n",
      "Load 1     Bus 1               100.0    0.0  -1.0 \n",
      "\n",
      "\n",
      "Load\n",
      "Load 1    100.0\n",
      "Name: p_set, dtype: float64 \n",
      "\n",
      "\n"
     ]
    }
   ],
   "source": [
    "network.add(\"Load\", \"Load 1\", bus = \"Bus 1\", p_set = 100)\n",
    "print(network.loads, \"\\n\\n\")\n",
    "print(network.loads.p_set, \"\\n\\n\")"
   ]
  },
  {
   "cell_type": "code",
   "execution_count": 8,
   "id": "1343b3b8-2dcb-4b38-9fe9-a293b9f5d184",
   "metadata": {},
   "outputs": [
    {
     "name": "stderr",
     "output_type": "stream",
     "text": [
      "INFO:pypsa.pf:Performing non-linear load-flow on AC sub-network SubNetwork 0 for snapshots Index(['now'], dtype='object', name='snapshot')\n",
      "INFO:pypsa.pf:Newton-Raphson solved in 3 iterations with error of 0.000000 in 0.024424 seconds\n"
     ]
    },
    {
     "data": {
      "text/plain": [
       "{'n_iter': SubNetwork  0\n",
       " snapshot     \n",
       " now         3,\n",
       " 'error': SubNetwork             0\n",
       " snapshot                \n",
       " now         2.004701e-12,\n",
       " 'converged': SubNetwork     0\n",
       " snapshot        \n",
       " now         True}"
      ]
     },
     "execution_count": 8,
     "metadata": {},
     "output_type": "execute_result"
    }
   ],
   "source": [
    "# perform the newton raphson load flow\n",
    "network.pf()\n"
   ]
  },
  {
   "cell_type": "code",
   "execution_count": 9,
   "id": "4eed16af-2e25-4c2c-a94f-57435cdae681",
   "metadata": {},
   "outputs": [
    {
     "name": "stdout",
     "output_type": "stream",
     "text": [
      "active power flow through the lines\n",
      "            Line 01    Line 12    Line 20\n",
      "snapshot                                 \n",
      "now       66.778181 -33.333333 -33.361212 \n",
      "\n",
      "\n",
      "voltage angle on the buses\n",
      "Bus       Bus 0     Bus 1     Bus 2\n",
      "snapshot                           \n",
      "now         0.0 -0.956705 -0.477919 \n",
      "\n",
      "\n",
      "magnitudes of bus voltages in per unit(pu)\n",
      "Bus       Bus 0     Bus 1     Bus 2\n",
      "snapshot                           \n",
      "now         1.0  0.998191  0.999061 \n",
      "\n",
      "\n"
     ]
    }
   ],
   "source": [
    "\n",
    "# what is the active power flow in the lines?\n",
    "print(\"active power flow through the lines\")\n",
    "print(network.lines_t.p0, \"\\n\\n\")\n",
    "\n",
    "# ..and what are the voltage angle on the buses?\n",
    "print(\"voltage angle on the buses\")\n",
    "print(network.buses_t.v_ang*180/np.pi, \"\\n\\n\")\n",
    "\n",
    "# print the magnitudes of bus voltages in per unit(pu)\n",
    "print(\"magnitudes of bus voltages in per unit(pu)\")\n",
    "print(network.buses_t.v_mag_pu, \"\\n\\n\")"
   ]
  },
  {
   "cell_type": "code",
   "execution_count": null,
   "id": "34867cb7-636d-44f3-89b4-cb9d045b8f6a",
   "metadata": {},
   "outputs": [],
   "source": []
  }
 ],
 "metadata": {
  "kernelspec": {
   "display_name": "Python 3 (ipykernel)",
   "language": "python",
   "name": "python3"
  },
  "language_info": {
   "codemirror_mode": {
    "name": "ipython",
    "version": 3
   },
   "file_extension": ".py",
   "mimetype": "text/x-python",
   "name": "python",
   "nbconvert_exporter": "python",
   "pygments_lexer": "ipython3",
   "version": "3.9.5"
  }
 },
 "nbformat": 4,
 "nbformat_minor": 5
}
