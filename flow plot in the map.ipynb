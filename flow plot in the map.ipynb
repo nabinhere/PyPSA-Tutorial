{
 "cells": [
  {
   "cell_type": "code",
   "execution_count": 1,
   "id": "9da23503",
   "metadata": {},
   "outputs": [],
   "source": [
    "import pypsa\n",
    "import pandas as pd \n",
    "import numpy as np\n",
    "import cartopy.crs as ccrs"
   ]
  },
  {
   "cell_type": "code",
   "execution_count": 2,
   "id": "b57443ad",
   "metadata": {},
   "outputs": [],
   "source": [
    "network = pypsa.Network()\n",
    "\n",
    "nbus = 3\n",
    "\n",
    "network.add(\"Bus\", \"Bus1\", v_nom = 0.4, x = 27.7061, y = 85.3148)\n",
    "network.add(\"Bus\", \"Bus2\", v_nom = 11, x = 27.6253, y = 85.5561)\n",
    "network.add(\"Bus\", \"Bus3\", v_nom = 0.4, x = 27.6660, y = 85.3227)\n",
    "\n",
    "network.add(\"Line\", \"Line12\", bus0 = \"Bus1\", bus1 = \"Bus2\")\n",
    "network.add(\"Line\", \"Line23\", bus0 = \"Bus2\", bus1 = \"Bus3\")\n",
    "network.add(\"Line\", \"Line31\", bus0 = \"Bus3\", bus1 = \"Bus1\")\n"
   ]
  },
  {
   "cell_type": "code",
   "execution_count": 3,
   "id": "dc4980cc",
   "metadata": {},
   "outputs": [],
   "source": [
    "bus_colors = []\n",
    "bus_names = network.buses.index.to_list()\n",
    "for i in range(1, nbus+1):\n",
    "    if network.buses.loc[f'Bus{i}', 'v_nom'] > 1.0:\n",
    "        bus_colors.append(\"r\")\n",
    "    else:\n",
    "        bus_colors.append(\"g\")\n",
    "bus_colors = pd.Series(bus_colors, index=bus_names)    "
   ]
  },
  {
   "cell_type": "code",
   "execution_count": 4,
   "id": "2903c22b",
   "metadata": {},
   "outputs": [
    {
     "name": "stdout",
     "output_type": "stream",
     "text": [
      "<class 'pandas.core.series.Series'>\n",
      "Bus1    g\n",
      "Bus2    r\n",
      "Bus3    g\n",
      "dtype: object\n"
     ]
    }
   ],
   "source": [
    "print(type(bus_colors))\n",
    "print(bus_colors)"
   ]
  },
  {
   "cell_type": "code",
   "execution_count": 7,
   "id": "637cc3af",
   "metadata": {},
   "outputs": [
    {
     "data": {
      "text/plain": [
       "(<matplotlib.collections.PatchCollection at 0x15786539f40>,\n",
       " <matplotlib.collections.LineCollection at 0x15786679850>)"
      ]
     },
     "execution_count": 7,
     "metadata": {},
     "output_type": "execute_result"
    },
    {
     "name": "stderr",
     "output_type": "stream",
     "text": [
      "c:\\users\\shnab\\appdata\\local\\programs\\python\\python39\\lib\\site-packages\\cartopy\\mpl\\style.py:76: UserWarning:\n",
      "\n",
      "facecolor will have no effect as it has been defined as \"never\".\n",
      "\n"
     ]
    },
    {
     "data": {
      "image/png": "[encoded data removed]",
      "text/plain": [
       "<Figure size 432x288 with 1 Axes>"
      ]
     },
     "metadata": {
      "needs_background": "light"
     },
     "output_type": "display_data"
    }
   ],
   "source": [
    "network.plot(bus_sizes=network.buses.v_nom/5000, bus_colors=bus_colors, line_widths=3.0)"
   ]
  },
  {
   "cell_type": "code",
   "execution_count": 27,
   "id": "b1450af5",
   "metadata": {},
   "outputs": [
    {
     "data": {
      "text/plain": [
       "Bus\n",
       "Bus1     0.4\n",
       "Bus2    11.0\n",
       "Bus3     0.4\n",
       "Name: v_nom, dtype: float64"
      ]
     },
     "execution_count": 27,
     "metadata": {},
     "output_type": "execute_result"
    }
   ],
   "source": [
    "network.buses.v_nom"
   ]
  },
  {
   "cell_type": "code",
   "execution_count": 28,
   "id": "1133fca0",
   "metadata": {},
   "outputs": [
    {
     "data": {
      "text/plain": [
       "Bus\n",
       "Bus1    0.0002\n",
       "Bus2    0.0055\n",
       "Bus3    0.0002\n",
       "Name: v_nom, dtype: float64"
      ]
     },
     "execution_count": 28,
     "metadata": {},
     "output_type": "execute_result"
    }
   ],
   "source": [
    "network.buses.v_nom/2000"
   ]
  },
  {
   "cell_type": "code",
   "execution_count": 34,
   "id": "9a3450e3",
   "metadata": {},
   "outputs": [
    {
     "data": {
      "text/plain": [
       "attribute\n",
       "v_nom           3\n",
       "type            3\n",
       "x               3\n",
       "y               3\n",
       "carrier         3\n",
       "unit            3\n",
       "v_mag_pu_set    3\n",
       "v_mag_pu_min    3\n",
       "v_mag_pu_max    3\n",
       "control         3\n",
       "generator       3\n",
       "sub_network     3\n",
       "dtype: int64"
      ]
     },
     "execution_count": 34,
     "metadata": {},
     "output_type": "execute_result"
    }
   ],
   "source": [
    "network.buses.count()"
   ]
  },
  {
   "cell_type": "code",
   "execution_count": 37,
   "id": "6446cc9d",
   "metadata": {},
   "outputs": [
    {
     "data": {
      "text/html": [
       "<div>\n",
       "<style scoped>\n",
       "    .dataframe tbody tr th:only-of-type {\n",
       "        vertical-align: middle;\n",
       "    }\n",
       "\n",
       "    .dataframe tbody tr th {\n",
       "        vertical-align: top;\n",
       "    }\n",
       "\n",
       "    .dataframe thead th {\n",
       "        text-align: right;\n",
       "    }\n",
       "</style>\n",
       "<table border=\"1\" class=\"dataframe\">\n",
       "  <thead>\n",
       "    <tr style=\"text-align: right;\">\n",
       "      <th>attribute</th>\n",
       "      <th>v_nom</th>\n",
       "      <th>type</th>\n",
       "      <th>x</th>\n",
       "      <th>y</th>\n",
       "      <th>carrier</th>\n",
       "      <th>unit</th>\n",
       "      <th>v_mag_pu_set</th>\n",
       "      <th>v_mag_pu_min</th>\n",
       "      <th>v_mag_pu_max</th>\n",
       "      <th>control</th>\n",
       "      <th>generator</th>\n",
       "      <th>sub_network</th>\n",
       "    </tr>\n",
       "    <tr>\n",
       "      <th>Bus</th>\n",
       "      <th></th>\n",
       "      <th></th>\n",
       "      <th></th>\n",
       "      <th></th>\n",
       "      <th></th>\n",
       "      <th></th>\n",
       "      <th></th>\n",
       "      <th></th>\n",
       "      <th></th>\n",
       "      <th></th>\n",
       "      <th></th>\n",
       "      <th></th>\n",
       "    </tr>\n",
       "  </thead>\n",
       "  <tbody>\n",
       "    <tr>\n",
       "      <th>Bus1</th>\n",
       "      <td>0.4</td>\n",
       "      <td></td>\n",
       "      <td>27.7061</td>\n",
       "      <td>85.3148</td>\n",
       "      <td>AC</td>\n",
       "      <td></td>\n",
       "      <td>1.0</td>\n",
       "      <td>0.0</td>\n",
       "      <td>inf</td>\n",
       "      <td>PQ</td>\n",
       "      <td></td>\n",
       "      <td></td>\n",
       "    </tr>\n",
       "    <tr>\n",
       "      <th>Bus2</th>\n",
       "      <td>11.0</td>\n",
       "      <td></td>\n",
       "      <td>27.6253</td>\n",
       "      <td>85.5561</td>\n",
       "      <td>AC</td>\n",
       "      <td></td>\n",
       "      <td>1.0</td>\n",
       "      <td>0.0</td>\n",
       "      <td>inf</td>\n",
       "      <td>PQ</td>\n",
       "      <td></td>\n",
       "      <td></td>\n",
       "    </tr>\n",
       "    <tr>\n",
       "      <th>Bus3</th>\n",
       "      <td>0.4</td>\n",
       "      <td></td>\n",
       "      <td>27.6660</td>\n",
       "      <td>85.3227</td>\n",
       "      <td>AC</td>\n",
       "      <td></td>\n",
       "      <td>1.0</td>\n",
       "      <td>0.0</td>\n",
       "      <td>inf</td>\n",
       "      <td>PQ</td>\n",
       "      <td></td>\n",
       "      <td></td>\n",
       "    </tr>\n",
       "  </tbody>\n",
       "</table>\n",
       "</div>"
      ],
      "text/plain": [
       "attribute  v_nom type        x        y carrier unit  v_mag_pu_set  \\\n",
       "Bus                                                                  \n",
       "Bus1         0.4       27.7061  85.3148      AC                1.0   \n",
       "Bus2        11.0       27.6253  85.5561      AC                1.0   \n",
       "Bus3         0.4       27.6660  85.3227      AC                1.0   \n",
       "\n",
       "attribute  v_mag_pu_min  v_mag_pu_max control generator sub_network  \n",
       "Bus                                                                  \n",
       "Bus1                0.0           inf      PQ                        \n",
       "Bus2                0.0           inf      PQ                        \n",
       "Bus3                0.0           inf      PQ                        "
      ]
     },
     "execution_count": 37,
     "metadata": {},
     "output_type": "execute_result"
    }
   ],
   "source": [
    "network.buses"
   ]
  },
  {
   "cell_type": "code",
   "execution_count": 42,
   "id": "2e0c79ec",
   "metadata": {},
   "outputs": [
    {
     "data": {
      "text/plain": [
       "0.4"
      ]
     },
     "execution_count": 42,
     "metadata": {},
     "output_type": "execute_result"
    }
   ],
   "source": [
    "network.buses.loc['Bus1', 'v_nom']"
   ]
  },
  {
   "cell_type": "code",
   "execution_count": 11,
   "id": "57c08e1f",
   "metadata": {},
   "outputs": [
    {
     "data": {
      "text/html": [
       "<div>\n",
       "<style scoped>\n",
       "    .dataframe tbody tr th:only-of-type {\n",
       "        vertical-align: middle;\n",
       "    }\n",
       "\n",
       "    .dataframe tbody tr th {\n",
       "        vertical-align: top;\n",
       "    }\n",
       "\n",
       "    .dataframe thead th {\n",
       "        text-align: right;\n",
       "    }\n",
       "</style>\n",
       "<table border=\"1\" class=\"dataframe\">\n",
       "  <thead>\n",
       "    <tr style=\"text-align: right;\">\n",
       "      <th>attribute</th>\n",
       "      <th>v_nom</th>\n",
       "      <th>type</th>\n",
       "      <th>x</th>\n",
       "      <th>y</th>\n",
       "      <th>carrier</th>\n",
       "      <th>unit</th>\n",
       "      <th>v_mag_pu_set</th>\n",
       "      <th>v_mag_pu_min</th>\n",
       "      <th>v_mag_pu_max</th>\n",
       "      <th>control</th>\n",
       "      <th>generator</th>\n",
       "      <th>sub_network</th>\n",
       "    </tr>\n",
       "    <tr>\n",
       "      <th>Bus</th>\n",
       "      <th></th>\n",
       "      <th></th>\n",
       "      <th></th>\n",
       "      <th></th>\n",
       "      <th></th>\n",
       "      <th></th>\n",
       "      <th></th>\n",
       "      <th></th>\n",
       "      <th></th>\n",
       "      <th></th>\n",
       "      <th></th>\n",
       "      <th></th>\n",
       "    </tr>\n",
       "  </thead>\n",
       "  <tbody>\n",
       "    <tr>\n",
       "      <th>Bus1</th>\n",
       "      <td>0.4</td>\n",
       "      <td></td>\n",
       "      <td>27.7061</td>\n",
       "      <td>85.3148</td>\n",
       "      <td>AC</td>\n",
       "      <td></td>\n",
       "      <td>1.0</td>\n",
       "      <td>0.0</td>\n",
       "      <td>inf</td>\n",
       "      <td>PQ</td>\n",
       "      <td></td>\n",
       "      <td></td>\n",
       "    </tr>\n",
       "    <tr>\n",
       "      <th>Bus2</th>\n",
       "      <td>11.0</td>\n",
       "      <td></td>\n",
       "      <td>27.6253</td>\n",
       "      <td>85.5561</td>\n",
       "      <td>AC</td>\n",
       "      <td></td>\n",
       "      <td>1.0</td>\n",
       "      <td>0.0</td>\n",
       "      <td>inf</td>\n",
       "      <td>PQ</td>\n",
       "      <td></td>\n",
       "      <td></td>\n",
       "    </tr>\n",
       "    <tr>\n",
       "      <th>Bus3</th>\n",
       "      <td>0.4</td>\n",
       "      <td></td>\n",
       "      <td>27.6660</td>\n",
       "      <td>85.3227</td>\n",
       "      <td>AC</td>\n",
       "      <td></td>\n",
       "      <td>1.0</td>\n",
       "      <td>0.0</td>\n",
       "      <td>inf</td>\n",
       "      <td>PQ</td>\n",
       "      <td></td>\n",
       "      <td></td>\n",
       "    </tr>\n",
       "  </tbody>\n",
       "</table>\n",
       "</div>"
      ],
      "text/plain": [
       "attribute  v_nom type        x        y carrier unit  v_mag_pu_set  \\\n",
       "Bus                                                                  \n",
       "Bus1         0.4       27.7061  85.3148      AC                1.0   \n",
       "Bus2        11.0       27.6253  85.5561      AC                1.0   \n",
       "Bus3         0.4       27.6660  85.3227      AC                1.0   \n",
       "\n",
       "attribute  v_mag_pu_min  v_mag_pu_max control generator sub_network  \n",
       "Bus                                                                  \n",
       "Bus1                0.0           inf      PQ                        \n",
       "Bus2                0.0           inf      PQ                        \n",
       "Bus3                0.0           inf      PQ                        "
      ]
     },
     "execution_count": 11,
     "metadata": {},
     "output_type": "execute_result"
    }
   ],
   "source": [
    "network.buses"
   ]
  },
  {
   "cell_type": "code",
   "execution_count": 17,
   "id": "e1ef5e4d",
   "metadata": {},
   "outputs": [
    {
     "data": {
      "text/plain": [
       "Index(['Bus1', 'Bus2', 'Bus3'], dtype='object', name='Bus')"
      ]
     },
     "execution_count": 17,
     "metadata": {},
     "output_type": "execute_result"
    }
   ],
   "source": [
    "network.buses.index"
   ]
  },
  {
   "cell_type": "code",
   "execution_count": 18,
   "id": "646de9d0",
   "metadata": {},
   "outputs": [
    {
     "data": {
      "text/plain": [
       "pandas.core.indexes.base.Index"
      ]
     },
     "execution_count": 18,
     "metadata": {},
     "output_type": "execute_result"
    }
   ],
   "source": [
    "type(network.buses.index)"
   ]
  },
  {
   "cell_type": "code",
   "execution_count": 28,
   "id": "a573229e",
   "metadata": {},
   "outputs": [],
   "source": [
    "mylist = network.buses.index.to_series()"
   ]
  },
  {
   "cell_type": "code",
   "execution_count": 29,
   "id": "1fa77f64",
   "metadata": {},
   "outputs": [
    {
     "name": "stdout",
     "output_type": "stream",
     "text": [
      "Bus\n",
      "Bus1    Bus1\n",
      "Bus2    Bus2\n",
      "Bus3    Bus3\n",
      "Name: Bus, dtype: object\n"
     ]
    }
   ],
   "source": [
    "print(mylist)"
   ]
  },
  {
   "cell_type": "code",
   "execution_count": 22,
   "id": "36d02ee9",
   "metadata": {},
   "outputs": [
    {
     "name": "stdout",
     "output_type": "stream",
     "text": [
      "['row1', 'row2']\n"
     ]
    }
   ],
   "source": [
    "import pandas as pd\n",
    "\n",
    "# Create a sample DataFrame\n",
    "data = {'col1': [1, 2], 'col2': [3, 4]}\n",
    "df = pd.DataFrame(data, index=['row1', 'row2'])\n",
    "\n",
    "# Extract the row names into a list\n",
    "row_names_list = df.index.tolist()\n",
    "\n",
    "# Print the list of row names\n",
    "print(row_names_list)\n"
   ]
  },
  {
   "cell_type": "code",
   "execution_count": 27,
   "id": "8ba551a4",
   "metadata": {},
   "outputs": [
    {
     "data": {
      "text/plain": [
       "pandas.core.frame.DataFrame"
      ]
     },
     "execution_count": 27,
     "metadata": {},
     "output_type": "execute_result"
    }
   ],
   "source": [
    "type(network.buses)"
   ]
  },
  {
   "cell_type": "code",
   "execution_count": null,
   "id": "0504a827",
   "metadata": {},
   "outputs": [],
   "source": []
  }
 ],
 "metadata": {
  "kernelspec": {
   "display_name": "Python 3 (ipykernel)",
   "language": "python",
   "name": "python3"
  },
  "language_info": {
   "codemirror_mode": {
    "name": "ipython",
    "version": 3
   },
   "file_extension": ".py",
   "mimetype": "text/x-python",
   "name": "python",
   "nbconvert_exporter": "python",
   "pygments_lexer": "ipython3",
   "version": "3.12.1"
  }
 },
 "nbformat": 4,
 "nbformat_minor": 5
}
